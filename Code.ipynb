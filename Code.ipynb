{
 "cells": [
  {
   "cell_type": "code",
   "execution_count": 1,
   "metadata": {
    "colab": {
     "autoexec": {
      "startup": false,
      "wait_interval": 0.0
     },
     "base_uri": "https://localhost:8080/",
     "height": 34.0,
     "output_extras": [
      {
       "item_id": 1.0
      }
     ]
    },
    "colab_type": "code",
    "executionInfo": {
     "elapsed": 698.0,
     "status": "ok",
     "timestamp": 1.517831672264E12,
     "user": {
      "displayName": "Roman Nagibov",
      "photoUrl": "https://lh3.googleusercontent.com/a/default-user=s128",
      "userId": "114173235568384363238"
     },
     "user_tz": -180.0
    },
    "id": "-CF077GYLZid",
    "outputId": "62ae99db-88d0-4f96-9993-75442eb56a53"
   },
   "outputs": [],
   "source": [
    ""
   ]
  },
  {
   "cell_type": "code",
   "execution_count": 2,
   "metadata": {
    "colab": {
     "autoexec": {
      "startup": false,
      "wait_interval": 0.0
     }
    },
    "colab_type": "code",
    "id": "ANiGLjLALhQp"
   },
   "outputs": [],
   "source": [
    "%matplotlib inline\n",
    "import random\n",
    "import matplotlib\n",
    "import matplotlib.pyplot as plt\n",
    "import numpy as np\n",
    "\n",
    "import tensorflow as tf\n",
    "import tensorflow.contrib.slim as slim"
   ]
  },
  {
   "cell_type": "code",
   "execution_count": 3,
   "metadata": {
    "colab": {
     "autoexec": {
      "startup": false,
      "wait_interval": 0.0
     },
     "base_uri": "https://localhost:8080/",
     "height": 85.0,
     "output_extras": [
      {
       "item_id": 2.0
      }
     ]
    },
    "colab_type": "code",
    "executionInfo": {
     "elapsed": 877.0,
     "status": "ok",
     "timestamp": 1.517831755894E12,
     "user": {
      "displayName": "Roman Nagibov",
      "photoUrl": "https://lh3.googleusercontent.com/a/default-user=s128",
      "userId": "114173235568384363238"
     },
     "user_tz": -180.0
    },
    "id": "Txb0VTURSWhY",
    "outputId": "fa96078c-9fa5-4aa5-bc33-6dce5a1e7d57"
   },
   "outputs": [
    {
     "name": "stdout",
     "output_type": "stream",
     "text": [
      "Successfully downloaded train-images-idx3-ubyte.gz 9912422 bytes.\n",
      "Extracting MNIST_data/train-images-idx3-ubyte.gz\n",
      "Successfully downloaded train-labels-idx1-ubyte.gz 28881 bytes.\n",
      "Extracting MNIST_data/train-labels-idx1-ubyte.gz\n",
      "Successfully downloaded t10k-images-idx3-ubyte.gz 1648877 bytes.\n",
      "Extracting MNIST_data/t10k-images-idx3-ubyte.gz\n",
      "Successfully downloaded t10k-labels-idx1-ubyte.gz 4542 bytes.\n",
      "Extracting MNIST_data/t10k-labels-idx1-ubyte.gz\n"
     ]
    }
   ],
   "source": [
    "from tensorflow.examples.tutorials.mnist import input_data as mnist_data\n",
    "mnist = mnist_data.read_data_sets(\"MNIST_data/\", one_hot=True)"
   ]
  },
  {
   "cell_type": "code",
   "execution_count": 4,
   "metadata": {
    "colab": {
     "autoexec": {
      "startup": false,
      "wait_interval": 0.0
     },
     "base_uri": "https://localhost:8080/",
     "height": 68.0,
     "output_extras": [
      {
       "item_id": 1.0
      }
     ]
    },
    "colab_type": "code",
    "executionInfo": {
     "elapsed": 670.0,
     "status": "ok",
     "timestamp": 1.517832695074E12,
     "user": {
      "displayName": "Roman Nagibov",
      "photoUrl": "https://lh3.googleusercontent.com/a/default-user=s128",
      "userId": "114173235568384363238"
     },
     "user_tz": -180.0
    },
    "id": "aGYIiiO90pSs",
    "outputId": "a1359a16-a69c-472f-d0c1-475b22ff1441"
   },
   "outputs": [
    {
     "name": "stdout",
     "output_type": "stream",
     "text": [
      "('train x images', (55000, 784))\n",
      "('train y images', (55000, 10))\n",
      "('test images', (10000, 784))\n"
     ]
    }
   ],
   "source": [
    "print('train x images',(mnist.train.images.shape))\n",
    "print('train y images',(mnist.train.labels.shape))\n",
    "print('test images',(mnist.test.images.shape))"
   ]
  },
  {
   "cell_type": "code",
   "execution_count": 5,
   "metadata": {
    "colab": {
     "autoexec": {
      "startup": false,
      "wait_interval": 0.0
     },
     "base_uri": "https://localhost:8080/",
     "height": 441.0,
     "output_extras": [
      {
       "item_id": 1.0
      },
      {
       "item_id": 2.0
      }
     ]
    },
    "colab_type": "code",
    "executionInfo": {
     "elapsed": 1284.0,
     "status": "ok",
     "timestamp": 1.517832616851E12,
     "user": {
      "displayName": "Roman Nagibov",
      "photoUrl": "https://lh3.googleusercontent.com/a/default-user=s128",
      "userId": "114173235568384363238"
     },
     "user_tz": -180.0
    },
    "id": "n8tqs4OSSvSq",
    "outputId": "5dfefc76-c4c9-4e96-bc7a-615657791d64"
   },
   "outputs": [
    {
     "name": "stdout",
     "output_type": "stream",
     "text": [
      "('shape size', (28, 28, 10))\n"
     ]
    },
    {
     "data": {
      "image/png": "[encoded data removed]",
      "text/plain": [
       "<matplotlib.figure.Figure at 0x7f148a88d890>"
      ]
     },
     "metadata": {},
     "output_type": "display_data"
    }
   ],
   "source": [
    "mnist_samples = mnist.train.images[:10,:].T.reshape(28, 28, -1)\n",
    "print('shape size',mnist_samples.shape)\n",
    "fig = plt.figure(figsize=(10,10))\n",
    "for j in range(mnist_samples.shape[2]):\n",
    "    ax = fig.add_subplot(2, 5, j+1)\n",
    "    ax.imshow(mnist_samples[:,:,j], \n",
    "              cmap=matplotlib.cm.binary, interpolation='none')\n",
    "    plt.xticks(np.array([]))\n",
    "    plt.yticks(np.array([]))\n",
    "plt.show()"
   ]
  },
  {
   "cell_type": "code",
   "execution_count": 6,
   "metadata": {
    "colab": {
     "autoexec": {
      "startup": false,
      "wait_interval": 0.0
     }
    },
    "colab_type": "code",
    "id": "Y134cBoBSve5"
   },
   "outputs": [],
   "source": [
    "with tf.name_scope('inputs'):\n",
    "    x = tf.placeholder(tf.float32, [None, mnist.train.images.shape[1]], name='x')\n",
    "    y = tf.placeholder(tf.float32, [None, mnist.train.labels.shape[1]], name='y')\n",
    "    x_image = tf.reshape(x, [-1,28,28,1], name='image')"
   ]
  },
  {
   "cell_type": "code",
   "execution_count": 7,
   "metadata": {
    "colab": {
     "autoexec": {
      "startup": false,
      "wait_interval": 0.0
     }
    },
    "colab_type": "code",
    "id": "gdGC607tSvir"
   },
   "outputs": [],
   "source": [
    "with slim.arg_scope(\n",
    "    [slim.conv2d, slim.fully_connected],\n",
    "    biases_initializer=tf.constant_initializer(0.1),\n",
    "    weights_initializer=tf.truncated_normal_initializer(stddev=0.1),\n",
    "):\n",
    "    out = slim.conv2d(x_image, 32, [5, 5], scope='conv1')\n",
    "    out = slim.max_pool2d(out, [2, 2], scope='pool1')\n",
    "    out = slim.conv2d(out, 64, [5, 5], scope='conv2')\n",
    "    out = slim.max_pool2d(out, [2, 2], scope='pool2')\n",
    "    out = slim.flatten(out)\n",
    "    out = slim.fully_connected(out, 256, scope='fc1')\n",
    "    out = slim.fully_connected(out, 10, activation_fn=None, scope='fc2')"
   ]
  },
  {
   "cell_type": "code",
   "execution_count": 8,
   "metadata": {
    "colab": {
     "autoexec": {
      "startup": false,
      "wait_interval": 0.0
     }
    },
    "colab_type": "code",
    "id": "sIdaVygFSvsx"
   },
   "outputs": [],
   "source": [
    "with tf.name_scope('loss'):    \n",
    "    loss = tf.reduce_mean(tf.nn.softmax_cross_entropy_with_logits(\n",
    "        logits=out, labels=y), name='cross_entropy')\n",
    "loss_summary = tf.summary.scalar('loss', loss)\n",
    "\n",
    "with tf.name_scope('accuracy'):\n",
    "    correct_prediction = tf.equal(tf.argmax(out, 1), tf.argmax(y, 1))\n",
    "    accuracy = tf.reduce_mean(tf.cast(correct_prediction, tf.float32))\n",
    "accuracy_summary = tf.summary.scalar('accuracy', accuracy)"
   ]
  },
  {
   "cell_type": "code",
   "execution_count": 55,
   "metadata": {
    "colab": {
     "autoexec": {
      "startup": false,
      "wait_interval": 0.0
     }
    },
    "colab_type": "code",
    "id": "X6tx4BLWSaz4"
   },
   "outputs": [],
   "source": [
    "ITERS = 4000\n",
    "BATCH_SIZE = 64\n",
    "LEARNING_RATE = 0.0001\n",
    "\n",
    "optimizer = tf.train.GradientDescentOptimizer(LEARNING_RATE)\n",
    "output_dir = 'logs/sgd'\n",
    "\n",
    "\n",
    "train_step = slim.learning.create_train_op(loss, optimizer)\n",
    "init = tf.global_variables_initializer()\n",
    "\n",
    "config = tf.ConfigProto(log_device_placement = False)\n",
    "config.gpu_options.allow_growth = True\n",
    "config.gpu_options.allocator_type = 'BFC'\n",
    "sess = tf.Session(config=config)\n",
    "\n",
    "sess.run(init)\n",
    "summary_writer = tf.summary.FileWriter(output_dir, sess.graph)"
   ]
  },
  {
   "cell_type": "code",
   "execution_count": 10,
   "metadata": {
    "colab": {
     "autoexec": {
      "startup": false,
      "wait_interval": 0.0
     },
     "base_uri": "https://localhost:8080/",
     "height": 357.0,
     "output_extras": [
      {
       "item_id": 20.0
      }
     ]
    },
    "colab_type": "code",
    "executionInfo": {
     "elapsed": 38876.0,
     "status": "ok",
     "timestamp": 1.517831495729E12,
     "user": {
      "displayName": "Roman Nagibov",
      "photoUrl": "https://lh3.googleusercontent.com/a/default-user=s128",
      "userId": "114173235568384363238"
     },
     "user_tz": -180.0
    },
    "id": "NpnLfeQxzdoz",
    "outputId": "657a33fb-17a6-4f70-ecda-8c4ec7fde950"
   },
   "outputs": [
    {
     "name": "stdout",
     "output_type": "stream",
     "text": [
      "[   0] Accuracy:  2.34 %\n",
      "[ 200] Accuracy: 94.53 %\n",
      "[ 400] Accuracy: 93.75 %\n",
      "[ 600] Accuracy: 95.31 %\n",
      "[ 800] Accuracy: 98.44 %\n",
      "[1000] Accuracy: 94.53 %\n",
      "[1200] Accuracy: 96.09 %\n",
      "[1400] Accuracy: 96.88 %\n",
      "[1600] Accuracy: 97.66 %\n",
      "[1800] Accuracy: 96.88 %\n",
      "[2000] Accuracy: 97.66 %\n",
      "[2200] Accuracy: 98.44 %\n",
      "[2400] Accuracy: 98.44 %\n",
      "[2600] Accuracy: 100.00 %\n",
      "[2800] Accuracy: 96.09 %\n",
      "[3000] Accuracy: 99.22 %\n",
      "[3200] Accuracy: 98.44 %\n",
      "[3400] Accuracy: 98.44 %\n",
      "[3600] Accuracy: 100.00 %\n",
      "[3800] Accuracy: 96.09 %\n"
     ]
    }
   ],
   "source": [
    "for it in range(ITERS):\n",
    "\n",
    "    batch_xs, batch_ys = mnist.train.next_batch(BATCH_SIZE)    \n",
    "    _, loss_s = sess.run([train_step, loss_summary], feed_dict={\n",
    "        x: batch_xs, y: batch_ys,\n",
    "    })\n",
    "    if it % 10 == 0:\n",
    "        summary_writer.add_summary(loss_s, it)\n",
    "        \n",
    "    if it % 200 == 0:\n",
    "        test_xs, test_ys = mnist.test.next_batch(128)\n",
    "        acc, acc_s = sess.run([accuracy, accuracy_summary], feed_dict={\n",
    "            x: test_xs, y: test_ys,\n",
    "        })\n",
    "        summary_writer.add_summary(acc_s, it)\n",
    "        print(\"[%4d] Accuracy: %5.2f %%\" % (it, acc*100))"
   ]
  },
  {
   "cell_type": "code",
   "execution_count": 11,
   "metadata": {
    "colab": {
     "autoexec": {
      "startup": false,
      "wait_interval": 0.0
     },
     "base_uri": "https://localhost:8080/",
     "height": 34.0,
     "output_extras": [
      {
       "item_id": 1.0
      }
     ]
    },
    "colab_type": "code",
    "executionInfo": {
     "elapsed": 602.0,
     "status": "ok",
     "timestamp": 1.517831498402E12,
     "user": {
      "displayName": "Roman Nagibov",
      "photoUrl": "https://lh3.googleusercontent.com/a/default-user=s128",
      "userId": "114173235568384363238"
     },
     "user_tz": -180.0
    },
    "id": "U42U4EOFSYJR",
    "outputId": "6619fe6c-cc6f-4d43-b6e3-8814361fe5b2"
   },
   "outputs": [
    {
     "name": "stdout",
     "output_type": "stream",
     "text": [
      "Final accuracy : 98.63 %\n"
     ]
    }
   ],
   "source": [
    "final_acc = sess.run(accuracy, feed_dict={\n",
    "    x: mnist.test.images,\n",
    "    y: mnist.test.labels,\n",
    "})\n",
    "print('Final accuracy : %5.2f %%' % (final_acc*100))"
   ]
  },
  {
   "cell_type": "code",
   "execution_count": 12,
   "metadata": {
    "colab": {
     "autoexec": {
      "startup": false,
      "wait_interval": 0.0
     }
    },
    "colab_type": "code",
    "id": "7FbccuvyzlAJ"
   },
   "outputs": [],
   "source": [
    "def test_digit(sample):\n",
    "    \n",
    "    sample = sample[np.newaxis, ...]\n",
    "    prediction = sess.run(tf.nn.softmax(out), feed_dict={x: sample})\n",
    "    ans = np.argmax(prediction)\n",
    "\n",
    "    fig = plt.figure(figsize=(12,4))\n",
    "\n",
    "    ax = fig.add_subplot(1, 2, 1)\n",
    "    ax.imshow(sample.transpose().reshape(28, 28), \n",
    "              cmap=matplotlib.cm.binary,interpolation ='none')\n",
    "    plt.xticks(np.array([]))\n",
    "    plt.yticks(np.array([]))\n",
    "\n",
    "    ax = fig.add_subplot(1, 2, 2)\n",
    "    bar_list = ax.bar(np.arange(10), prediction[0], align='center')\n",
    "    bar_list[ans].set_color('g')\n",
    "    ax.set_xticks(np.arange(10))\n",
    "    ax.set_xlim([-1, 10])\n",
    "    ax.grid('on')\n",
    "\n",
    "    plt.show()\n",
    "\n",
    "    print('Answer: {}'.format(ans))"
   ]
  },
  {
   "cell_type": "code",
   "execution_count": 39,
   "metadata": {
    "colab": {
     "autoexec": {
      "startup": false,
      "wait_interval": 0.0
     },
     "base_uri": "https://localhost:8080/",
     "height": 282.0,
     "output_extras": [
      {
       "item_id": 1.0
      },
      {
       "item_id": 2.0
      }
     ]
    },
    "colab_type": "code",
    "executionInfo": {
     "elapsed": 637.0,
     "status": "ok",
     "timestamp": 1.517831501677E12,
     "user": {
      "displayName": "Roman Nagibov",
      "photoUrl": "https://lh3.googleusercontent.com/a/default-user=s128",
      "userId": "114173235568384363238"
     },
     "user_tz": -180.0
    },
    "id": "lnxHz_ENznCI",
    "outputId": "617f1006-2701-448d-c0a2-697f3c49ad7e"
   },
   "outputs": [
    {
     "data": {
      "image/png": "[encoded data removed]",
      "text/plain": [
       "<matplotlib.figure.Figure at 0x7f1486035550>"
      ]
     },
     "metadata": {},
     "output_type": "display_data"
    },
    {
     "name": "stdout",
     "output_type": "stream",
     "text": [
      "Answer: 3\n"
     ]
    }
   ],
   "source": [
    "idx = random.randint(8, mnist.test.images.shape[0])\n",
    "sample = mnist.test.images[idx,:]\n",
    "test_digit(sample)"
   ]
  },
  {
   "cell_type": "code",
   "execution_count": 34,
   "metadata": {
    "colab": {
     "autoexec": {
      "startup": false,
      "wait_interval": 0.0
     },
     "base_uri": "https://localhost:8080/",
     "height": 34.0,
     "output_extras": [
      {
       "item_id": 1.0
      }
     ]
    },
    "colab_type": "code",
    "executionInfo": {
     "elapsed": 748.0,
     "status": "ok",
     "timestamp": 1.517831502531E12,
     "user": {
      "displayName": "Roman Nagibov",
      "photoUrl": "https://lh3.googleusercontent.com/a/default-user=s128",
      "userId": "114173235568384363238"
     },
     "user_tz": -180.0
    },
    "id": "c_7aVC8tzpHT",
    "outputId": "655a7325-1c6f-4251-a1a4-4548150613fb"
   },
   "outputs": [
    {
     "name": "stdout",
     "output_type": "stream",
     "text": [
      "True Answer: 7\n"
     ]
    }
   ],
   "source": [
    "print('True Answer: {}'.format(np.argmax(mnist.test.labels[idx])))"
   ]
  },
  {
   "cell_type": "code",
   "execution_count": 54,
   "metadata": {
    "colab": {
     "autoexec": {
      "startup": false,
      "wait_interval": 0.0
     },
     "base_uri": "https://localhost:8080/",
     "height": 469.0,
     "output_extras": [
      {
       "item_id": 1.0
      }
     ]
    },
    "colab_type": "code",
    "executionInfo": {
     "elapsed": 711.0,
     "status": "error",
     "timestamp": 1.517831511658E12,
     "user": {
      "displayName": "Roman Nagibov",
      "photoUrl": "https://lh3.googleusercontent.com/a/default-user=s128",
      "userId": "114173235568384363238"
     },
     "user_tz": -180.0
    },
    "id": "lkGKEAyLzrkY",
    "outputId": "516d3358-e5d2-475f-dd75-b11b5243039e"
   },
   "outputs": [
    {
     "data": {
      "image/png": "[encoded data removed]",
      "text/plain": [
       "<matplotlib.figure.Figure at 0x7f1485c50e50>"
      ]
     },
     "metadata": {},
     "output_type": "display_data"
    },
    {
     "name": "stdout",
     "output_type": "stream",
     "text": [
      "Answer: 1\n"
     ]
    }
   ],
   "source": [
    "import scipy.misc\n",
    "\n",
    "img = scipy.misc.imread('digit.png')\n",
    "img = scipy.misc.imresize(img, (28, 28))\n",
    "img = 1. - img.astype(np.float32)/255.\n",
    "img = np.mean(img, axis=2)\n",
    "img = img.flatten()\n",
    "\n",
    "test_digit(img)"
   ]
  },
  {
   "cell_type": "code",
   "execution_count": null,
   "metadata": {},
   "outputs": [],
   "source": [
    "#tensorboard --logdir=/tmp/tensorflow/mnist/logs/"
   ]
  }
 ],
 "metadata": {
  "accelerator": "GPU",
  "colab": {
   "default_view": {},
   "name": "Untitled1.ipynb",
   "provenance": [],
   "version": "0.3.2",
   "views": {}
  },
  "kernelspec": {
   "display_name": "Python 2",
   "language": "python",
   "name": "python2"
  },
  "language_info": {
   "codemirror_mode": {
    "name": "ipython",
    "version": 2
   },
   "file_extension": ".py",
   "mimetype": "text/x-python",
   "name": "python",
   "nbconvert_exporter": "python",
   "pygments_lexer": "ipython2",
   "version": "2.7.12"
  }
 },
 "nbformat": 4,
 "nbformat_minor": 1
}
